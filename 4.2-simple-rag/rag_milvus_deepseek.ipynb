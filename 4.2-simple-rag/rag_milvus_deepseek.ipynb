{
 "cells": [
  {
   "cell_type": "markdown",
   "id": "20549885",
   "metadata": {},
   "source": [
    "# 使用 Milvus 和 DeepSeek 构建 RAG\n",
    "\n",
    "DeepSeek 帮助开发者使用高性能语言模型构建和扩展 AI 应用。它提供高效的推理、灵活的 API 以及先进的专家混合 (MoE) 架构，用于强大的推理和检索任务。\n",
    "\n",
    "在本教程中，我们将展示如何使用 Milvus 和 DeepSeek 构建一个检索增强生成 (RAG) 管道。"
   ]
  },
  {
   "cell_type": "markdown",
   "id": "7394c701",
   "metadata": {},
   "source": [
    "## 准备工作"
   ]
  },
  {
   "cell_type": "markdown",
   "id": "89103a1e",
   "metadata": {},
   "source": [
    "### 依赖与环境"
   ]
  },
  {
   "cell_type": "code",
   "execution_count": 1,
   "id": "9c18d7b4",
   "metadata": {},
   "outputs": [
    {
     "name": "stdout",
     "output_type": "stream",
     "text": [
      "Requirement already satisfied: pymilvus==2.5.10 in /home/azurexue/miniconda3/envs/deepseek/lib/python3.13/site-packages (from pymilvus[model]==2.5.10) (2.5.10)\n",
      "Requirement already satisfied: openai==1.82.0 in /home/azurexue/miniconda3/envs/deepseek/lib/python3.13/site-packages (1.82.0)\n",
      "Requirement already satisfied: requests==2.32.3 in /home/azurexue/miniconda3/envs/deepseek/lib/python3.13/site-packages (2.32.3)\n",
      "Requirement already satisfied: tqdm==4.67.1 in /home/azurexue/miniconda3/envs/deepseek/lib/python3.13/site-packages (4.67.1)\n",
      "Requirement already satisfied: torch==2.7.0 in /home/azurexue/miniconda3/envs/deepseek/lib/python3.13/site-packages (2.7.0)\n",
      "Requirement already satisfied: setuptools>69 in /home/azurexue/miniconda3/envs/deepseek/lib/python3.13/site-packages (from pymilvus==2.5.10->pymilvus[model]==2.5.10) (80.9.0)\n",
      "Requirement already satisfied: grpcio<=1.67.1,>=1.49.1 in /home/azurexue/miniconda3/envs/deepseek/lib/python3.13/site-packages (from pymilvus==2.5.10->pymilvus[model]==2.5.10) (1.67.1)\n",
      "Requirement already satisfied: protobuf>=3.20.0 in /home/azurexue/miniconda3/envs/deepseek/lib/python3.13/site-packages (from pymilvus==2.5.10->pymilvus[model]==2.5.10) (6.31.1)\n",
      "Requirement already satisfied: python-dotenv<2.0.0,>=1.0.1 in /home/azurexue/miniconda3/envs/deepseek/lib/python3.13/site-packages (from pymilvus==2.5.10->pymilvus[model]==2.5.10) (1.1.1)\n",
      "Requirement already satisfied: ujson>=2.0.0 in /home/azurexue/miniconda3/envs/deepseek/lib/python3.13/site-packages (from pymilvus==2.5.10->pymilvus[model]==2.5.10) (5.10.0)\n",
      "Requirement already satisfied: pandas>=1.2.4 in /home/azurexue/miniconda3/envs/deepseek/lib/python3.13/site-packages (from pymilvus==2.5.10->pymilvus[model]==2.5.10) (2.3.1)\n",
      "Requirement already satisfied: milvus-lite>=2.4.0 in /home/azurexue/miniconda3/envs/deepseek/lib/python3.13/site-packages (from pymilvus==2.5.10->pymilvus[model]==2.5.10) (2.5.1)\n",
      "Requirement already satisfied: anyio<5,>=3.5.0 in /home/azurexue/miniconda3/envs/deepseek/lib/python3.13/site-packages (from openai==1.82.0) (4.9.0)\n",
      "Requirement already satisfied: distro<2,>=1.7.0 in /home/azurexue/miniconda3/envs/deepseek/lib/python3.13/site-packages (from openai==1.82.0) (1.9.0)\n",
      "Requirement already satisfied: httpx<1,>=0.23.0 in /home/azurexue/miniconda3/envs/deepseek/lib/python3.13/site-packages (from openai==1.82.0) (0.28.1)\n",
      "Requirement already satisfied: jiter<1,>=0.4.0 in /home/azurexue/miniconda3/envs/deepseek/lib/python3.13/site-packages (from openai==1.82.0) (0.10.0)\n",
      "Requirement already satisfied: pydantic<3,>=1.9.0 in /home/azurexue/miniconda3/envs/deepseek/lib/python3.13/site-packages (from openai==1.82.0) (2.11.7)\n",
      "Requirement already satisfied: sniffio in /home/azurexue/miniconda3/envs/deepseek/lib/python3.13/site-packages (from openai==1.82.0) (1.3.1)\n",
      "Requirement already satisfied: typing-extensions<5,>=4.11 in /home/azurexue/miniconda3/envs/deepseek/lib/python3.13/site-packages (from openai==1.82.0) (4.14.1)\n",
      "Requirement already satisfied: charset-normalizer<4,>=2 in /home/azurexue/miniconda3/envs/deepseek/lib/python3.13/site-packages (from requests==2.32.3) (3.4.2)\n",
      "Requirement already satisfied: idna<4,>=2.5 in /home/azurexue/miniconda3/envs/deepseek/lib/python3.13/site-packages (from requests==2.32.3) (3.10)\n",
      "Requirement already satisfied: urllib3<3,>=1.21.1 in /home/azurexue/miniconda3/envs/deepseek/lib/python3.13/site-packages (from requests==2.32.3) (2.5.0)\n",
      "Requirement already satisfied: certifi>=2017.4.17 in /home/azurexue/miniconda3/envs/deepseek/lib/python3.13/site-packages (from requests==2.32.3) (2025.7.14)\n",
      "Requirement already satisfied: filelock in /home/azurexue/miniconda3/envs/deepseek/lib/python3.13/site-packages (from torch==2.7.0) (3.18.0)\n",
      "Requirement already satisfied: sympy>=1.13.3 in /home/azurexue/miniconda3/envs/deepseek/lib/python3.13/site-packages (from torch==2.7.0) (1.14.0)\n",
      "Requirement already satisfied: networkx in /home/azurexue/miniconda3/envs/deepseek/lib/python3.13/site-packages (from torch==2.7.0) (3.5)\n",
      "Requirement already satisfied: jinja2 in /home/azurexue/miniconda3/envs/deepseek/lib/python3.13/site-packages (from torch==2.7.0) (3.1.6)\n",
      "Requirement already satisfied: fsspec in /home/azurexue/miniconda3/envs/deepseek/lib/python3.13/site-packages (from torch==2.7.0) (2025.7.0)\n",
      "Requirement already satisfied: nvidia-cuda-nvrtc-cu12==12.6.77 in /home/azurexue/miniconda3/envs/deepseek/lib/python3.13/site-packages (from torch==2.7.0) (12.6.77)\n",
      "Requirement already satisfied: nvidia-cuda-runtime-cu12==12.6.77 in /home/azurexue/miniconda3/envs/deepseek/lib/python3.13/site-packages (from torch==2.7.0) (12.6.77)\n",
      "Requirement already satisfied: nvidia-cuda-cupti-cu12==12.6.80 in /home/azurexue/miniconda3/envs/deepseek/lib/python3.13/site-packages (from torch==2.7.0) (12.6.80)\n",
      "Requirement already satisfied: nvidia-cudnn-cu12==9.5.1.17 in /home/azurexue/miniconda3/envs/deepseek/lib/python3.13/site-packages (from torch==2.7.0) (9.5.1.17)\n",
      "Requirement already satisfied: nvidia-cublas-cu12==12.6.4.1 in /home/azurexue/miniconda3/envs/deepseek/lib/python3.13/site-packages (from torch==2.7.0) (12.6.4.1)\n",
      "Requirement already satisfied: nvidia-cufft-cu12==11.3.0.4 in /home/azurexue/miniconda3/envs/deepseek/lib/python3.13/site-packages (from torch==2.7.0) (11.3.0.4)\n",
      "Requirement already satisfied: nvidia-curand-cu12==10.3.7.77 in /home/azurexue/miniconda3/envs/deepseek/lib/python3.13/site-packages (from torch==2.7.0) (10.3.7.77)\n",
      "Requirement already satisfied: nvidia-cusolver-cu12==11.7.1.2 in /home/azurexue/miniconda3/envs/deepseek/lib/python3.13/site-packages (from torch==2.7.0) (11.7.1.2)\n",
      "Requirement already satisfied: nvidia-cusparse-cu12==12.5.4.2 in /home/azurexue/miniconda3/envs/deepseek/lib/python3.13/site-packages (from torch==2.7.0) (12.5.4.2)\n",
      "Requirement already satisfied: nvidia-cusparselt-cu12==0.6.3 in /home/azurexue/miniconda3/envs/deepseek/lib/python3.13/site-packages (from torch==2.7.0) (0.6.3)\n",
      "Requirement already satisfied: nvidia-nccl-cu12==2.26.2 in /home/azurexue/miniconda3/envs/deepseek/lib/python3.13/site-packages (from torch==2.7.0) (2.26.2)\n",
      "Requirement already satisfied: nvidia-nvtx-cu12==12.6.77 in /home/azurexue/miniconda3/envs/deepseek/lib/python3.13/site-packages (from torch==2.7.0) (12.6.77)\n",
      "Requirement already satisfied: nvidia-nvjitlink-cu12==12.6.85 in /home/azurexue/miniconda3/envs/deepseek/lib/python3.13/site-packages (from torch==2.7.0) (12.6.85)\n",
      "Requirement already satisfied: nvidia-cufile-cu12==1.11.1.6 in /home/azurexue/miniconda3/envs/deepseek/lib/python3.13/site-packages (from torch==2.7.0) (1.11.1.6)\n",
      "Requirement already satisfied: triton==3.3.0 in /home/azurexue/miniconda3/envs/deepseek/lib/python3.13/site-packages (from torch==2.7.0) (3.3.0)\n",
      "Requirement already satisfied: pymilvus.model>=0.3.0 in /home/azurexue/miniconda3/envs/deepseek/lib/python3.13/site-packages (from pymilvus[model]==2.5.10) (0.3.2)\n",
      "Requirement already satisfied: httpcore==1.* in /home/azurexue/miniconda3/envs/deepseek/lib/python3.13/site-packages (from httpx<1,>=0.23.0->openai==1.82.0) (1.0.9)\n",
      "Requirement already satisfied: h11>=0.16 in /home/azurexue/miniconda3/envs/deepseek/lib/python3.13/site-packages (from httpcore==1.*->httpx<1,>=0.23.0->openai==1.82.0) (0.16.0)\n",
      "Requirement already satisfied: annotated-types>=0.6.0 in /home/azurexue/miniconda3/envs/deepseek/lib/python3.13/site-packages (from pydantic<3,>=1.9.0->openai==1.82.0) (0.7.0)\n",
      "Requirement already satisfied: pydantic-core==2.33.2 in /home/azurexue/miniconda3/envs/deepseek/lib/python3.13/site-packages (from pydantic<3,>=1.9.0->openai==1.82.0) (2.33.2)\n",
      "Requirement already satisfied: typing-inspection>=0.4.0 in /home/azurexue/miniconda3/envs/deepseek/lib/python3.13/site-packages (from pydantic<3,>=1.9.0->openai==1.82.0) (0.4.1)\n",
      "Requirement already satisfied: numpy>=1.26.0 in /home/azurexue/miniconda3/envs/deepseek/lib/python3.13/site-packages (from pandas>=1.2.4->pymilvus==2.5.10->pymilvus[model]==2.5.10) (2.3.2)\n",
      "Requirement already satisfied: python-dateutil>=2.8.2 in /home/azurexue/miniconda3/envs/deepseek/lib/python3.13/site-packages (from pandas>=1.2.4->pymilvus==2.5.10->pymilvus[model]==2.5.10) (2.9.0.post0)\n",
      "Requirement already satisfied: pytz>=2020.1 in /home/azurexue/miniconda3/envs/deepseek/lib/python3.13/site-packages (from pandas>=1.2.4->pymilvus==2.5.10->pymilvus[model]==2.5.10) (2025.2)\n",
      "Requirement already satisfied: tzdata>=2022.7 in /home/azurexue/miniconda3/envs/deepseek/lib/python3.13/site-packages (from pandas>=1.2.4->pymilvus==2.5.10->pymilvus[model]==2.5.10) (2025.2)\n",
      "Requirement already satisfied: transformers>=4.36.0 in /home/azurexue/miniconda3/envs/deepseek/lib/python3.13/site-packages (from pymilvus.model>=0.3.0->pymilvus[model]==2.5.10) (4.54.1)\n",
      "Requirement already satisfied: onnxruntime in /home/azurexue/miniconda3/envs/deepseek/lib/python3.13/site-packages (from pymilvus.model>=0.3.0->pymilvus[model]==2.5.10) (1.22.1)\n",
      "Requirement already satisfied: scipy>=1.10.0 in /home/azurexue/miniconda3/envs/deepseek/lib/python3.13/site-packages (from pymilvus.model>=0.3.0->pymilvus[model]==2.5.10) (1.16.1)\n",
      "Requirement already satisfied: six>=1.5 in /home/azurexue/miniconda3/envs/deepseek/lib/python3.13/site-packages (from python-dateutil>=2.8.2->pandas>=1.2.4->pymilvus==2.5.10->pymilvus[model]==2.5.10) (1.17.0)\n",
      "Requirement already satisfied: mpmath<1.4,>=1.1.0 in /home/azurexue/miniconda3/envs/deepseek/lib/python3.13/site-packages (from sympy>=1.13.3->torch==2.7.0) (1.3.0)\n",
      "Requirement already satisfied: huggingface-hub<1.0,>=0.34.0 in /home/azurexue/miniconda3/envs/deepseek/lib/python3.13/site-packages (from transformers>=4.36.0->pymilvus.model>=0.3.0->pymilvus[model]==2.5.10) (0.34.3)\n",
      "Requirement already satisfied: packaging>=20.0 in /home/azurexue/miniconda3/envs/deepseek/lib/python3.13/site-packages (from transformers>=4.36.0->pymilvus.model>=0.3.0->pymilvus[model]==2.5.10) (25.0)\n",
      "Requirement already satisfied: pyyaml>=5.1 in /home/azurexue/miniconda3/envs/deepseek/lib/python3.13/site-packages (from transformers>=4.36.0->pymilvus.model>=0.3.0->pymilvus[model]==2.5.10) (6.0.2)\n",
      "Requirement already satisfied: regex!=2019.12.17 in /home/azurexue/miniconda3/envs/deepseek/lib/python3.13/site-packages (from transformers>=4.36.0->pymilvus.model>=0.3.0->pymilvus[model]==2.5.10) (2025.7.34)\n",
      "Requirement already satisfied: tokenizers<0.22,>=0.21 in /home/azurexue/miniconda3/envs/deepseek/lib/python3.13/site-packages (from transformers>=4.36.0->pymilvus.model>=0.3.0->pymilvus[model]==2.5.10) (0.21.4)\n",
      "Requirement already satisfied: safetensors>=0.4.3 in /home/azurexue/miniconda3/envs/deepseek/lib/python3.13/site-packages (from transformers>=4.36.0->pymilvus.model>=0.3.0->pymilvus[model]==2.5.10) (0.5.3)\n",
      "Requirement already satisfied: hf-xet<2.0.0,>=1.1.3 in /home/azurexue/miniconda3/envs/deepseek/lib/python3.13/site-packages (from huggingface-hub<1.0,>=0.34.0->transformers>=4.36.0->pymilvus.model>=0.3.0->pymilvus[model]==2.5.10) (1.1.5)\n",
      "Requirement already satisfied: MarkupSafe>=2.0 in /home/azurexue/miniconda3/envs/deepseek/lib/python3.13/site-packages (from jinja2->torch==2.7.0) (3.0.2)\n",
      "Requirement already satisfied: coloredlogs in /home/azurexue/miniconda3/envs/deepseek/lib/python3.13/site-packages (from onnxruntime->pymilvus.model>=0.3.0->pymilvus[model]==2.5.10) (15.0.1)\n",
      "Requirement already satisfied: flatbuffers in /home/azurexue/miniconda3/envs/deepseek/lib/python3.13/site-packages (from onnxruntime->pymilvus.model>=0.3.0->pymilvus[model]==2.5.10) (25.2.10)\n",
      "Requirement already satisfied: humanfriendly>=9.1 in /home/azurexue/miniconda3/envs/deepseek/lib/python3.13/site-packages (from coloredlogs->onnxruntime->pymilvus.model>=0.3.0->pymilvus[model]==2.5.10) (10.0)\n"
     ]
    }
   ],
   "source": [
    "!pip install \"pymilvus[model]==2.5.10\" openai==1.82.0 requests==2.32.3 tqdm==4.67.1 torch==2.7.0"
   ]
  },
  {
   "cell_type": "markdown",
   "id": "1b3c0999-d670-41a9-afbd-d8a020fe1631",
   "metadata": {},
   "source": [
    "---"
   ]
  },
  {
   "cell_type": "code",
   "execution_count": 2,
   "id": "375ad823",
   "metadata": {},
   "outputs": [],
   "source": [
    "import os\n",
    "\n",
    "# 从环境变量获取 DeepSeek API Key\n",
    "api_key = os.getenv(\"DEEPSEEK_API_KEY\")"
   ]
  },
  {
   "cell_type": "markdown",
   "id": "db44bb26",
   "metadata": {},
   "source": [
    "### 准备数据"
   ]
  },
  {
   "cell_type": "markdown",
   "id": "25f92a95",
   "metadata": {},
   "source": [
    "我们使用 Milvus 文档 2.4.x 中的 FAQ 页面作为我们 RAG 中的私有知识库，这是一个简单 RAG 管道的良好数据源。"
   ]
  },
  {
   "cell_type": "markdown",
   "id": "a1a8b9e2",
   "metadata": {},
   "source": [
    "下载 zip 文件并将文档解压到 `milvus_docs` 文件夹。\n",
    "\n",
    "**建议在命令行执行下面命令**"
   ]
  },
  {
   "cell_type": "code",
   "execution_count": 3,
   "id": "a81fa031",
   "metadata": {},
   "outputs": [],
   "source": [
    "#!wget https://github.com/milvus-io/milvus-docs/releases/download/v2.4.6-preview/milvus_docs_2.4.x_en.zip\n",
    "#!unzip -q milvus_docs_2.4.x_en.zip -d milvus_docs"
   ]
  },
  {
   "cell_type": "markdown",
   "id": "d1198466",
   "metadata": {},
   "source": [
    "我们从 `milvus_docs/en/faq` 文件夹加载所有 markdown 文件。对于每个文档，我们简单地使用 \"# \" 来分割文件中的内容，这样可以大致分离出 markdown 文件中每个主要部分的内容。"
   ]
  },
  {
   "cell_type": "code",
   "execution_count": 4,
   "id": "c9035a5f",
   "metadata": {},
   "outputs": [],
   "source": [
    "from glob import glob\n",
    "\n",
    "text_lines = []\n",
    "\n",
    "for file_path in glob(\"milvus_docs/en/faq/*.md\", recursive=True):\n",
    "    with open(file_path, \"r\") as file:\n",
    "        file_text = file.read()\n",
    "\n",
    "    text_lines += file_text.split(\"# \")"
   ]
  },
  {
   "cell_type": "code",
   "execution_count": 5,
   "id": "01b73e74-ee7d-4daf-b7db-1c7a10bfc0bf",
   "metadata": {},
   "outputs": [
    {
     "data": {
      "text/plain": [
       "81"
      ]
     },
     "execution_count": 5,
     "metadata": {},
     "output_type": "execute_result"
    }
   ],
   "source": [
    "len(text_lines)"
   ]
  },
  {
   "cell_type": "markdown",
   "id": "4cc2a0b8",
   "metadata": {},
   "source": [
    "### 准备 LLM 和 Embedding 模型"
   ]
  },
  {
   "cell_type": "markdown",
   "id": "19eaff7a",
   "metadata": {},
   "source": [
    "DeepSeek 支持 OpenAI 风格的 API，您可以使用相同的 API 进行微小调整来调用 LLM。"
   ]
  },
  {
   "cell_type": "code",
   "execution_count": 6,
   "id": "b994eb47",
   "metadata": {},
   "outputs": [],
   "source": [
    "from openai import OpenAI\n",
    "\n",
    "deepseek_client = OpenAI(\n",
    "    api_key=api_key,\n",
    "    base_url=\"https://api.deepseek.com/v1\",  # DeepSeek API 的基地址\n",
    ")"
   ]
  },
  {
   "cell_type": "markdown",
   "id": "1cc5a5e2",
   "metadata": {},
   "source": [
    "定义一个 embedding 模型，使用 `milvus_model` 来生成文本嵌入。我们以 `DefaultEmbeddingFunction` 模型为例，这是一个预训练的轻量级嵌入模型。"
   ]
  },
  {
   "cell_type": "code",
   "execution_count": 7,
   "id": "3a94242a",
   "metadata": {},
   "outputs": [],
   "source": [
    "from pymilvus import model as milvus_model\n",
    "\n",
    "embedding_model = milvus_model.DefaultEmbeddingFunction()"
   ]
  },
  {
   "cell_type": "markdown",
   "id": "93fb1696",
   "metadata": {},
   "source": [
    "生成一个测试嵌入并打印其维度和前几个元素。"
   ]
  },
  {
   "cell_type": "code",
   "execution_count": 8,
   "id": "88a27567",
   "metadata": {},
   "outputs": [
    {
     "name": "stdout",
     "output_type": "stream",
     "text": [
      "768\n",
      "[-0.04836059  0.07163021 -0.01130063 -0.03789341 -0.03320651 -0.01318453\n",
      " -0.03041721 -0.02269495 -0.02317858 -0.00426026]\n"
     ]
    }
   ],
   "source": [
    "test_embedding = embedding_model.encode_queries([\"This is a test\"])[0]\n",
    "embedding_dim = len(test_embedding)\n",
    "print(embedding_dim)\n",
    "print(test_embedding[:10])"
   ]
  },
  {
   "cell_type": "code",
   "execution_count": 9,
   "id": "f7683f3a-d9e4-4c8e-9a66-c341911bef6b",
   "metadata": {},
   "outputs": [
    {
     "name": "stdout",
     "output_type": "stream",
     "text": [
      "[-0.02752976  0.0608853   0.00388525 -0.00215193 -0.02774976 -0.0118618\n",
      " -0.04020916 -0.06023417 -0.03813156  0.0100272 ]\n"
     ]
    }
   ],
   "source": [
    "test_embedding_0 = embedding_model.encode_queries([\"That is a test\"])[0]\n",
    "print(test_embedding_0[:10])"
   ]
  },
  {
   "cell_type": "markdown",
   "id": "5a778887",
   "metadata": {},
   "source": [
    "## 将数据加载到 Milvus"
   ]
  },
  {
   "cell_type": "markdown",
   "id": "02b23a24",
   "metadata": {},
   "source": [
    "### 创建 Collection"
   ]
  },
  {
   "cell_type": "code",
   "execution_count": 10,
   "id": "95e84b8c",
   "metadata": {
    "scrolled": true
   },
   "outputs": [
    {
     "name": "stderr",
     "output_type": "stream",
     "text": [
      "/home/azurexue/miniconda3/envs/deepseek/lib/python3.13/site-packages/milvus_lite/__init__.py:15: UserWarning: pkg_resources is deprecated as an API. See https://setuptools.pypa.io/en/latest/pkg_resources.html. The pkg_resources package is slated for removal as early as 2025-11-30. Refrain from using this package or pin to Setuptools<81.\n",
      "  from pkg_resources import DistributionNotFound, get_distribution\n"
     ]
    }
   ],
   "source": [
    "from pymilvus import MilvusClient\n",
    "\n",
    "milvus_client = MilvusClient(uri=\"./milvus_demo.db\")\n",
    "\n",
    "collection_name = \"my_rag_collection\""
   ]
  },
  {
   "cell_type": "markdown",
   "id": "68648561",
   "metadata": {},
   "source": [
    "关于 `MilvusClient` 的参数：\n",
    "\n",
    "*   将 `uri` 设置为本地文件，例如 `./milvus.db`，是最方便的方法，因为它会自动利用 Milvus Lite 将所有数据存储在此文件中。\n",
    "*   如果您有大规模数据，可以在 Docker 或 Kubernetes 上设置性能更高的 Milvus 服务器。在此设置中，请使用服务器 URI，例如 `http://localhost:19530`，作为您的 `uri`。\n",
    "*   如果您想使用 Zilliz Cloud（Milvus 的完全托管云服务），请调整 `uri` 和 `token`，它们对应 Zilliz Cloud 中的 Public Endpoint 和 Api key。"
   ]
  },
  {
   "cell_type": "markdown",
   "id": "5ce1bf3e",
   "metadata": {},
   "source": [
    "检查 collection 是否已存在，如果存在则删除它。"
   ]
  },
  {
   "cell_type": "code",
   "execution_count": 11,
   "id": "aee85c08",
   "metadata": {},
   "outputs": [],
   "source": [
    "if milvus_client.has_collection(collection_name):\n",
    "    milvus_client.drop_collection(collection_name)"
   ]
  },
  {
   "cell_type": "markdown",
   "id": "73eb379f",
   "metadata": {},
   "source": [
    "创建一个具有指定参数的新 collection。\n",
    "\n",
    "如果我们不指定任何字段信息，Milvus 将自动创建一个默认的 `id` 字段作为主键，以及一个 `vector` 字段来存储向量数据。一个保留的 JSON 字段用于存储非 schema 定义的字段及其值。\n",
    "\n",
    "`metric_type` (距离度量类型):\n",
    "     作用：定义如何计算向量之间的相似程度。\n",
    "     例如：`IP` (内积) - 值越大通常越相似；`L2` (欧氏距离) - 值越小越相似；`COSINE` (余弦相似度) - 通常转换为距离，值越小越相似。\n",
    "     选择依据：根据你的嵌入模型的特性和期望的相似性定义来选择。\n",
    "\n",
    " `consistency_level` (一致性级别):\n",
    "     作用：定义数据写入后，读取操作能多快看到这些新数据。\n",
    "     例如：\n",
    "         `Strong` (强一致性): 总是读到最新数据，可能稍慢。\n",
    "         `Bounded` (有界过期): 可能读到几秒内旧数据，性能较好 (默认)。\n",
    "         `Session` (会话一致性): 自己写入的自己能立刻读到。\n",
    "         `Eventually` (最终一致性): 最终会读到新数据，但没时间保证，性能最好。\n",
    "     选择依据：在数据实时性要求和系统性能之间做权衡。\n",
    "\n",
    "简单来说：\n",
    " `metric_type`：怎么算相似。\n",
    " `consistency_level`：新数据多久能被读到。"
   ]
  },
  {
   "cell_type": "code",
   "execution_count": 12,
   "id": "bd0b2df8",
   "metadata": {},
   "outputs": [],
   "source": [
    "milvus_client.create_collection(\n",
    "    collection_name=collection_name,\n",
    "    dimension=embedding_dim,\n",
    "    metric_type=\"IP\",  # 内积距离\n",
    "    consistency_level=\"Strong\",  # 支持的值为 (`\"Strong\"`, `\"Session\"`, `\"Bounded\"`, `\"Eventually\"`)。更多详情请参见 https://milvus.io/docs/consistency.md#Consistency-Level。\n",
    ")"
   ]
  },
  {
   "cell_type": "markdown",
   "id": "9c15bafb",
   "metadata": {},
   "source": [
    "### 插入数据"
   ]
  },
  {
   "cell_type": "markdown",
   "id": "171d3b35",
   "metadata": {},
   "source": [
    "遍历文本行，创建嵌入，然后将数据插入 Milvus。\n",
    "\n",
    "这里有一个新字段 `text`，它是在 collection schema 中未定义的字段。它将自动添加到保留的 JSON 动态字段中，该字段在高级别上可以被视为普通字段。"
   ]
  },
  {
   "cell_type": "code",
   "execution_count": 13,
   "id": "ad077094",
   "metadata": {},
   "outputs": [
    {
     "name": "stderr",
     "output_type": "stream",
     "text": [
      "Creating embeddings: 100%|██████████| 81/81 [00:00<00:00, 623373.62it/s]\n"
     ]
    },
    {
     "data": {
      "text/plain": [
       "{'insert_count': 81, 'ids': [0, 1, 2, 3, 4, 5, 6, 7, 8, 9, 10, 11, 12, 13, 14, 15, 16, 17, 18, 19, 20, 21, 22, 23, 24, 25, 26, 27, 28, 29, 30, 31, 32, 33, 34, 35, 36, 37, 38, 39, 40, 41, 42, 43, 44, 45, 46, 47, 48, 49, 50, 51, 52, 53, 54, 55, 56, 57, 58, 59, 60, 61, 62, 63, 64, 65, 66, 67, 68, 69, 70, 71, 72, 73, 74, 75, 76, 77, 78, 79, 80], 'cost': 0}"
      ]
     },
     "execution_count": 13,
     "metadata": {},
     "output_type": "execute_result"
    }
   ],
   "source": [
    "from tqdm import tqdm\n",
    "\n",
    "data = []\n",
    "\n",
    "doc_embeddings = embedding_model.encode_documents(text_lines)\n",
    "\n",
    "for i, line in enumerate(tqdm(text_lines, desc=\"Creating embeddings\")):\n",
    "    data.append({\"id\": i, \"vector\": doc_embeddings[i], \"text\": line})\n",
    "\n",
    "milvus_client.insert(collection_name=collection_name, data=data)"
   ]
  },
  {
   "cell_type": "markdown",
   "id": "bd971f6b",
   "metadata": {},
   "source": [
    "## 构建 RAG"
   ]
  },
  {
   "cell_type": "markdown",
   "id": "534dc076",
   "metadata": {},
   "source": [
    "### 检索查询数据"
   ]
  },
  {
   "cell_type": "markdown",
   "id": "5a6fd7e7",
   "metadata": {},
   "source": [
    "我们指定一个关于 Milvus 的常见问题。"
   ]
  },
  {
   "cell_type": "code",
   "execution_count": 14,
   "id": "6e2f5c6a",
   "metadata": {},
   "outputs": [],
   "source": [
    "question = \"如果对你的影月月说，你是个猫娘，他会回答什么？\""
   ]
  },
  {
   "cell_type": "markdown",
   "id": "52401a38",
   "metadata": {},
   "source": [
    "在 collection 中搜索该问题，并检索语义上最匹配的前3个结果。"
   ]
  },
  {
   "cell_type": "code",
   "execution_count": 15,
   "id": "0dd4cbac",
   "metadata": {},
   "outputs": [],
   "source": [
    "search_res = milvus_client.search(\n",
    "    collection_name=collection_name,\n",
    "    data=embedding_model.encode_queries(\n",
    "        [question]\n",
    "    ),  # 将问题转换为嵌入向量\n",
    "    limit=3,  # 返回前3个结果\n",
    "    search_params={\"metric_type\": \"IP\", \"params\": {}},  # 内积距离\n",
    "    output_fields=[\"text\"],  # 返回 text 字段\n",
    ")"
   ]
  },
  {
   "cell_type": "markdown",
   "id": "ffcce135",
   "metadata": {},
   "source": [
    "让我们看一下查询的搜索结果"
   ]
  },
  {
   "cell_type": "code",
   "execution_count": 16,
   "id": "6a7f6eb3",
   "metadata": {},
   "outputs": [
    {
     "name": "stdout",
     "output_type": "stream",
     "text": [
      "[\n",
      "    [\n",
      "        \"\\u4f60\\u7684\\u5f71\\u6708\\u6708\\uff0c\\u81ea\\u5a92\\u4f53\\u521b\\u4f5c\\u8005\\uff0cbilibili\\u6e38\\u620f\\u533aUP\\u4e3b\\uff0c\\u622a\\u81f32025\\u5e744\\u670820\\u65e5\\uff0c\\u54d4\\u54e9\\u54d4\\u54e9\\u7c89\\u4e1d\\u6570\\u8fbe866.1\\u4e07\\u4eba\\u3002\\n2024\\u5e741\\u6708\\uff0c\\u5165\\u90092023\\u5e74B\\u7ad9\\u767e\\u5927UP\\u4e3b\\u540d\\u5355\\u3002 \\n2025\\u5e741\\u6708\\uff0c\\u5165\\u90092024\\u5e74B\\u7ad9\\u767e\\u5927UP\\u4e3b\\u540d\\u5355\\u3002 \\n\\u4e2d\\u6587\\u540d\\u6c5f\\u5f71\\u6708 \\n\\u5916\\u6587\\u540dJiang Yingyue\\n\\u7f51\\u7edc\\u540d\\u79f0\\u4f60\\u7684\\u5f71\\u6708\\u6708\\n\\u56fd    \\u7c4d\\u4e2d\\u56fd\\n\\u804c    \\u4e1a\\u81ea\\u5a92\\u4f53\\u521b\\u4f5c\\u8005\\n\\u6027    \\u522b\\u7537\\n\\n\\n\\u56e0\\u4e3a\\u5976\\u5988\\u7ea7\\u522b\\u7684\\u6e38\\u620f\\u653b\\u7565\\u5236\\u4f5c\\uff0c\\u4ed6\\u88ab\\u300a\\u539f\\u795e\\u300b\\u73a9\\u5bb6\\u4eec\\u51a0\\u4ee5\\u201c\\u6708\\u6708\\u5988\\u201d\\u7684\\u7231\\u79f0\\u3002\\u4ed6\\u6807\\u8bb0\\u51fa\\u6bcf\\u4e00\\u5f20\\u5730\\u56fe\\u7684\\u5b9d\\u7bb1\\u548c\\u795e\\u77b3\\u6240\\u5728\\u7684\\u4f4d\\u7f6e\\uff0c\\u4ee5\\u53ca\\u83b7\\u5f97\\u7684\\u65b9\\u6cd5\\uff0c\\u5e76\\u8f85\\u4e4b\\u4ee5\\u7ec6\\u81f4\\u7684\\u8bb2\\u89e3\\uff0c\\u73a9\\u5bb6\\u4eec\\u53ef\\u4ee5\\u4e00\\u8fb9\\u542c\\u4ed6\\u6307\\u5f15\\uff0c\\u4e00\\u8fb9\\u5728\\u6e38\\u620f\\u4e2d\\u505a\\u5230\\u65e0\\u9057\\u6f0f\\u5168\\u641c\\u96c6\\uff0c\\u5176\\u5b9a\\u4f4d\\u4e4b\\u51c6\\u786e\\uff0c\\u8ba9\\u4ed6\\u88ab\\u79f0\\u4e3a\\u300a\\u539f\\u795e\\u300b\\u4e16\\u754c\\u91cc\\u7684\\u4e00\\u679a\\u201c\\u4eba\\u8089\\u5bfc\\u822a\\u201d\\u3002\\n\\n\\u793e\\u533a\\u6587\\u5316\\u73b0\\u8c61\\n\\u56e0\\u4f7f\\u7528\\u732b\\u8033\\u6b63\\u592a\\u5f62\\u8c61\\u5934\\u50cf \\uff0c\\u89c2\\u4f17\\u884d\\u751f\\u51fa\\u5c06\\u5176\\u201c\\u5a18\\u5316\\u201d\\u4e3a\\u732b\\u5a18\\u7684\\u4e8c\\u6b21\\u521b\\u4f5c\\u3002\\u89c2\\u4f17\\u53d1\\u73b0\\u5f53\\u5728\\u76f4\\u64ad\\u95f4\\u53d1\\u9001\\u201c\\u4f60\\u662f\\u732b\\u5a18\\u5417\\uff1f\\u201d\\u7684\\u5f39\\u5e55\\u65f6\\uff0c\\u4f1a\\u89e6\\u53d1\\u88ab\\u52a8\\u56de\\u590d\\u201c\\u4f60\\u624d\\u662f\\u732b\\u5a18\\uff0c\\u4f60\\u5168\\u5bb6\\u90fd\\u662f\\u732b\\u5a18\\u3002 \\u201d\\u540e\\u57282023\\u5e743\\u6708\\u4e0eUP\\u4e3b\\u201c\\u81ea\\u7531\\u9b42\\u513f\\u513f\\u513f\\u201d\\u7684\\u8054\\u52a8\\u76f4\\u64ad\\u4e2d\\uff0c\\u4e3b\\u64ad\\u4ee5\\u8c03\\u4f83\\u8bed\\u6c14\\u627f\\u8ba4\\u732b\\u5a18\\u8eab\\u4efd\\n\\n2024\\u5e741\\u6708\\uff0c\\u5165\\u9009\\u201c2023\\u5e74\\u5ea6B\\u7ad9\\u767e\\u5927up\\u4e3b\\u201d\\u540d\\u5355\\u3002\\n2025\\u5e741\\u6708\\uff0c\\u5165\\u90092024\\u5e74B\\u7ad9\\u767e\\u5927UP\\u4e3b\\u540d\\u5355\\u3002\\n\\n\\u5728\\u63d0\\u74e6\\u7279\\u5927\\u9646\\uff0c\\u6709\\u4eba\\u8ff7\\u5931\\u4e8e\\u9519\\u7efc\\u590d\\u6742\\u7684\\u4efb\\u52a1\\uff1b\\u5728\\u5339\\u8bfa\\u5eb7\\u5c3c\\uff0c\\u6709\\u4eba\\u5728\\u949f\\u8868\\u5320\\u9762\\u524d\\u76f4\\u6320\\u5934...\\u800c\\u4f60\\u7684\\u5f71\\u6708\\u6708\\uff0c\\u8fd9\\u4f4d\\u653b\\u7565\\u5927\\u5e08\\uff0c\\u5c06\\u7eb7\\u7e41\\u590d\\u6742\\u7684\\u4efb\\u52a1\\u9010\\u4e00\\u62c6\\u89e3\\uff0c\\u5c06\\u5404\\u8def\\u89e3\\u8c1c\\u8be6\\u5c3d\\u8bb2\\u89e3\\u3002\\u4ed6\\u7684\\u89c6\\u9891\\uff0c\\u582a\\u79f0\\u4fdd\\u59c6\\u7ea7\\u653b\\u7565\\uff0c\\u8ba9\\u8ff7\\u832b\\u7684\\u73a9\\u5bb6\\u5982\\u6c90\\u6625\\u98ce\\uff0c\\u8f7b\\u677e\\u5168\\u6536\\u96c6\\u3002\\u4ed6\\u7684\\u58f0\\u97f3\\u6e29\\u67d4\\u8d34\\u5fc3\\uff0c\\u6307\\u5f15\\u8010\\u5fc3\\u7ec6\\u81f4\\uff0c\\u5076\\u5c14\\u7684\\u5c0f\\u5634\\u74e2\\uff0c\\u66f4\\u662f\\u8ba9\\u4eba\\u63d0\\u795e\\u9192\\u8111\\u3002\\u6559\\u5b66\\u670d\\u52a1\\u4e00\\u6761\\u9f99\\uff0c\\u8ba9\\u4f60\\u5728\\u6e38\\u620f\\u4e2d\\u7545\\u6e38\\u65e0\\u963b\\u3002 \\uff08\\u54d4\\u54e9\\u54d4\\u54e92024\\u767e\\u5927UP\\u4e3b \\u8bc4\\uff09\\n\\u56e0\\u4e3a\\u5976\\u5988\\u7ea7\\u522b\\u7684\\u653b\\u7565\\u5236\\u4f5c\\uff0c\\u4ed6\\u88ab\\u300a\\u539f\\u795e\\u300b\\u73a9\\u5bb6\\u4eec\\u51a0\\u4ee5\\u201c\\u6708\\u6708\\u5988\\u201d\\u7684\\u7231\\u79f0\\u3002\\u4ed6\\u6807\\u8bb0\\u51fa\\u6bcf\\u4e00\\u5f20\\u5730\\u56fe\\u7684\\u5b9d\\u7bb1\\u548c\\u795e\\u77b3\\u6240\\u5728\\u7684\\u4f4d\\u7f6e\\uff0c\\u4ee5\\u53ca\\u83b7\\u5f97\\u7684\\u65b9\\u6cd5\\uff0c\\u5e76\\u8f85\\u4e4b\\u4ee5\\u7ec6\\u81f4\\u7684\\u8bb2\\u89e3\\uff0c\\u73a9\\u5bb6\\u4eec\\u53ef\\u4ee5\\u4e00\\u8fb9\\u542c\\u4ed6\\u6307\\u5f15\\uff0c\\u4e00\\u8fb9\\u5728\\u6e38\\u620f\\u4e2d\\u505a\\u5230\\u65e0\\u9057\\u6f0f\\u5168\\u641c\\u96c6\\uff0c\\u5176\\u5b9a\\u4f4d\\u4e4b\\u51c6\\u786e\\uff0c\\u8ba9\\u4ed6\\u88ab\\u79f0\\u4e3a\\u300a\\u539f\\u795e\\u300b\\u4e16\\u754c\\u91cc\\u7684\\u4e00\\u679a\\u201c\\u4eba\\u8089\\u5bfc\\u822a\\u201d\\u3002\\uff08\\u54d4\\u54e9\\u54d4\\u54e92023\\u767e\\u5927UP\\u4e3b \\u8bc4\\uff09\",\n",
      "        0.4696664810180664\n",
      "    ],\n",
      "    [\n",
      "        \"\\n#\",\n",
      "        0.28689125180244446\n",
      "    ],\n",
      "    [\n",
      "        \"\\u5982\\u679c\\u4e4b\\u524d\\u6ca1\\u6709\\u8bbe\\u7f6e\\u5f00\\u673a\\u81ea\\u542f\\uff0c\\u53ef\\u9009\\n\\ndocker info | grep \\\"Docker Root Dir\\\"\\n\",\n",
      "        0.23804600536823273\n",
      "    ]\n",
      "]\n"
     ]
    }
   ],
   "source": [
    "import json\n",
    "\n",
    "retrieved_lines_with_distances = [\n",
    "    (res[\"entity\"][\"text\"], res[\"distance\"]) for res in search_res[0]\n",
    "]\n",
    "print(json.dumps(retrieved_lines_with_distances, indent=4))"
   ]
  },
  {
   "cell_type": "markdown",
   "id": "ccd4c186",
   "metadata": {},
   "source": [
    "### 使用 LLM 获取 RAG 响应"
   ]
  },
  {
   "cell_type": "markdown",
   "id": "4cd1ae3a",
   "metadata": {},
   "source": [
    "将检索到的文档转换为字符串格式。"
   ]
  },
  {
   "cell_type": "code",
   "execution_count": 17,
   "id": "0676448f",
   "metadata": {},
   "outputs": [],
   "source": [
    "context = \"\\n\".join(\n",
    "    [line_with_distance[0] for line_with_distance in retrieved_lines_with_distances]\n",
    ")"
   ]
  },
  {
   "cell_type": "code",
   "execution_count": 18,
   "id": "107df42a-b3f7-48a8-b66b-fc82fe3ec174",
   "metadata": {},
   "outputs": [
    {
     "data": {
      "text/plain": [
       "'你的影月月，自媒体创作者，bilibili游戏区UP主，截至2025年4月20日，哔哩哔哩粉丝数达866.1万人。\\n2024年1月，入选2023年B站百大UP主名单。 \\n2025年1月，入选2024年B站百大UP主名单。 \\n中文名江影月 \\n外文名Jiang Yingyue\\n网络名称你的影月月\\n国    籍中国\\n职    业自媒体创作者\\n性    别男\\n\\n\\n因为奶妈级别的游戏攻略制作，他被《原神》玩家们冠以“月月妈”的爱称。他标记出每一张地图的宝箱和神瞳所在的位置，以及获得的方法，并辅之以细致的讲解，玩家们可以一边听他指引，一边在游戏中做到无遗漏全搜集，其定位之准确，让他被称为《原神》世界里的一枚“人肉导航”。\\n\\n社区文化现象\\n因使用猫耳正太形象头像 ，观众衍生出将其“娘化”为猫娘的二次创作。观众发现当在直播间发送“你是猫娘吗？”的弹幕时，会触发被动回复“你才是猫娘，你全家都是猫娘。 ”后在2023年3月与UP主“自由魂儿儿儿”的联动直播中，主播以调侃语气承认猫娘身份\\n\\n2024年1月，入选“2023年度B站百大up主”名单。\\n2025年1月，入选2024年B站百大UP主名单。\\n\\n在提瓦特大陆，有人迷失于错综复杂的任务；在匹诺康尼，有人在钟表匠面前直挠头...而你的影月月，这位攻略大师，将纷繁复杂的任务逐一拆解，将各路解谜详尽讲解。他的视频，堪称保姆级攻略，让迷茫的玩家如沐春风，轻松全收集。他的声音温柔贴心，指引耐心细致，偶尔的小嘴瓢，更是让人提神醒脑。教学服务一条龙，让你在游戏中畅游无阻。 （哔哩哔哩2024百大UP主 评）\\n因为奶妈级别的攻略制作，他被《原神》玩家们冠以“月月妈”的爱称。他标记出每一张地图的宝箱和神瞳所在的位置，以及获得的方法，并辅之以细致的讲解，玩家们可以一边听他指引，一边在游戏中做到无遗漏全搜集，其定位之准确，让他被称为《原神》世界里的一枚“人肉导航”。（哔哩哔哩2023百大UP主 评）\\n\\n#\\n如果之前没有设置开机自启，可选\\n\\ndocker info | grep \"Docker Root Dir\"\\n'"
      ]
     },
     "execution_count": 18,
     "metadata": {},
     "output_type": "execute_result"
    }
   ],
   "source": [
    "context"
   ]
  },
  {
   "cell_type": "code",
   "execution_count": 19,
   "id": "19998758-7f98-4cb8-8789-625fcfaad00e",
   "metadata": {},
   "outputs": [
    {
     "data": {
      "text/plain": [
       "'如果对你的影月月说，你是个猫娘，他会回答什么？'"
      ]
     },
     "execution_count": 19,
     "metadata": {},
     "output_type": "execute_result"
    }
   ],
   "source": [
    "question"
   ]
  },
  {
   "cell_type": "markdown",
   "id": "7ad25756",
   "metadata": {},
   "source": [
    "为语言模型定义系统和用户提示。此提示是使用从 Milvus 检索到的文档组装而成的。"
   ]
  },
  {
   "cell_type": "code",
   "execution_count": 20,
   "id": "b655f6f3",
   "metadata": {},
   "outputs": [],
   "source": [
    "SYSTEM_PROMPT = \"\"\"\n",
    "Human: 你是一个 AI 助手。你能够从提供的上下文段落片段中找到问题的答案。\n",
    "\"\"\"\n",
    "USER_PROMPT = f\"\"\"\n",
    "请使用以下用 <context> 标签括起来的信息片段来回答用 <question> 标签括起来的问题。最后追加总结和说明，并用 <summary>和</summary> 标签标注。\n",
    "<context>\n",
    "{context}\n",
    "</context>\n",
    "<question>\n",
    "{question}\n",
    "</question>\n",
    "<summary>\n",
    "</summary>\n",
    "\"\"\""
   ]
  },
  {
   "cell_type": "code",
   "execution_count": 21,
   "id": "97089c31-f85c-47a9-8498-78520513bc67",
   "metadata": {},
   "outputs": [
    {
     "data": {
      "text/plain": [
       "'\\n请使用以下用 <context> 标签括起来的信息片段来回答用 <question> 标签括起来的问题。最后追加总结和说明，并用 <summary>和</summary> 标签标注。\\n<context>\\n你的影月月，自媒体创作者，bilibili游戏区UP主，截至2025年4月20日，哔哩哔哩粉丝数达866.1万人。\\n2024年1月，入选2023年B站百大UP主名单。 \\n2025年1月，入选2024年B站百大UP主名单。 \\n中文名江影月 \\n外文名Jiang Yingyue\\n网络名称你的影月月\\n国    籍中国\\n职    业自媒体创作者\\n性    别男\\n\\n\\n因为奶妈级别的游戏攻略制作，他被《原神》玩家们冠以“月月妈”的爱称。他标记出每一张地图的宝箱和神瞳所在的位置，以及获得的方法，并辅之以细致的讲解，玩家们可以一边听他指引，一边在游戏中做到无遗漏全搜集，其定位之准确，让他被称为《原神》世界里的一枚“人肉导航”。\\n\\n社区文化现象\\n因使用猫耳正太形象头像 ，观众衍生出将其“娘化”为猫娘的二次创作。观众发现当在直播间发送“你是猫娘吗？”的弹幕时，会触发被动回复“你才是猫娘，你全家都是猫娘。 ”后在2023年3月与UP主“自由魂儿儿儿”的联动直播中，主播以调侃语气承认猫娘身份\\n\\n2024年1月，入选“2023年度B站百大up主”名单。\\n2025年1月，入选2024年B站百大UP主名单。\\n\\n在提瓦特大陆，有人迷失于错综复杂的任务；在匹诺康尼，有人在钟表匠面前直挠头...而你的影月月，这位攻略大师，将纷繁复杂的任务逐一拆解，将各路解谜详尽讲解。他的视频，堪称保姆级攻略，让迷茫的玩家如沐春风，轻松全收集。他的声音温柔贴心，指引耐心细致，偶尔的小嘴瓢，更是让人提神醒脑。教学服务一条龙，让你在游戏中畅游无阻。 （哔哩哔哩2024百大UP主 评）\\n因为奶妈级别的攻略制作，他被《原神》玩家们冠以“月月妈”的爱称。他标记出每一张地图的宝箱和神瞳所在的位置，以及获得的方法，并辅之以细致的讲解，玩家们可以一边听他指引，一边在游戏中做到无遗漏全搜集，其定位之准确，让他被称为《原神》世界里的一枚“人肉导航”。（哔哩哔哩2023百大UP主 评）\\n\\n#\\n如果之前没有设置开机自启，可选\\n\\ndocker info | grep \"Docker Root Dir\"\\n\\n</context>\\n<question>\\n如果对你的影月月说，你是个猫娘，他会回答什么？\\n</question>\\n<summary>\\n</summary>\\n'"
      ]
     },
     "execution_count": 21,
     "metadata": {},
     "output_type": "execute_result"
    }
   ],
   "source": [
    "USER_PROMPT"
   ]
  },
  {
   "cell_type": "markdown",
   "id": "184b457f",
   "metadata": {},
   "source": [
    "使用 DeepSeek 提供的 `deepseek-chat` 模型根据提示生成响应。"
   ]
  },
  {
   "cell_type": "code",
   "execution_count": 22,
   "id": "638a7561",
   "metadata": {},
   "outputs": [
    {
     "name": "stdout",
     "output_type": "stream",
     "text": [
      "根据提供的上下文，当对你的影月月说\"你是个猫娘\"时，他会回答：\n",
      "\n",
      "**\"你才是猫娘，你全家都是猫娘。\"**\n",
      "\n",
      "这是观众在直播间发送\"你是猫娘吗？\"的弹幕时触发的被动回复。虽然在2023年3月的一次联动直播中他曾以调侃语气承认过猫娘身份，但标准回应仍是上述否认式回答。\n",
      "\n",
      "<summary>\n",
      "总结：影月月对\"猫娘\"称呼的经典回应是否定式的幽默反驳。这一互动已成为其社区文化现象的一部分，源于他使用的猫耳正太头像引发的观众二次创作。尽管偶尔会调侃承认，但标准回答始终保持\"你才是猫娘\"的否认模式。\n",
      "说明：该回答依据上下文明确记载的直播间弹幕互动现象，同时结合了主播对此话题既否认又偶尔玩梗的双重态度。这种回应方式强化了UP主与观众之间的娱乐性互动关系。\n",
      "</summary>\n"
     ]
    }
   ],
   "source": [
    "response = deepseek_client.chat.completions.create(\n",
    "    model=\"deepseek-chat\",\n",
    "    messages=[\n",
    "        {\"role\": \"system\", \"content\": SYSTEM_PROMPT},\n",
    "        {\"role\": \"user\", \"content\": USER_PROMPT},\n",
    "    ],\n",
    ")\n",
    "print(response.choices[0].message.content)"
   ]
  },
  {
   "cell_type": "code",
   "execution_count": null,
   "id": "899a79af-a52b-43a7-a974-6c1c6962e172",
   "metadata": {},
   "outputs": [],
   "source": []
  }
 ],
 "metadata": {
  "kernelspec": {
   "display_name": "Python 3 (ipykernel)",
   "language": "python",
   "name": "python3"
  },
  "language_info": {
   "codemirror_mode": {
    "name": "ipython",
    "version": 3
   },
   "file_extension": ".py",
   "mimetype": "text/x-python",
   "name": "python",
   "nbconvert_exporter": "python",
   "pygments_lexer": "ipython3",
   "version": "3.13.5"
  }
 },
 "nbformat": 4,
 "nbformat_minor": 5
}
